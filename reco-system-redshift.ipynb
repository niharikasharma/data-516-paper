{
 "cells": [
  {
   "cell_type": "code",
   "execution_count": null,
   "metadata": {
    "collapsed": false
   },
   "outputs": [],
   "source": [
    "import sqlalchemy as sa\n",
    "from sqlalchemy.orm import sessionmaker\n",
    "from datetime import datetime\n",
    "\n",
    "#>>>>>>>> MAKE CHANGES HERE <<<<<<<<<<<<< \n",
    "DATABASE = \"database name\"\n",
    "USER = \"user name\"\n",
    "PASSWORD = \"password\"\n",
    "HOST = \"host\"\n",
    "PORT = \"5439\"\n",
    "SCHEMA = \"public\"      #default is \"public\" \n",
    "\n",
    "####### connection and session creation ############## \n",
    "connection_string = \"redshift+psycopg2://%s:%s@%s:%s/%s\" % (USER,PASSWORD,HOST,PORT,DATABASE)\n",
    "print(connection_string)\n",
    "engine = sa.create_engine(connection_string)\n",
    "session = sessionmaker()\n",
    "session.configure(bind=engine)\n",
    "s = session()\n",
    "SetPath = \"SET search_path TO %s\" % SCHEMA\n",
    "s.execute(SetPath)\n",
    "###### All Set Session created using provided schema  #######\n",
    "\n",
    "\n",
    "\n",
    "query = \"select m.movieId, m.title, avg(r.rating) from ratings r, movies m where m.movieID = r.movieId and m.genres like '%%Comedy%%' group by m.movieID, m.title order by avg(r.rating) DESC limit 10;\"\n",
    "\n",
    "print(query)\n",
    "for i in range(1, 12):\n",
    "    start = datetime.now()\n",
    "    rr = s.execute(query)\n",
    "    all_results =  rr.fetchall()\n",
    "    end = datetime.now()\n",
    "    print(i, \": time in seconds - \", (end - start).total_seconds())\n",
    "\n",
    "\n",
    "\n",
    "s.close()"
   ]
  },
  {
   "cell_type": "code",
   "execution_count": null,
   "metadata": {
    "collapsed": false,
    "scrolled": true
   },
   "outputs": [],
   "source": [
    "s = session()\n",
    "SetPath = \"SET search_path TO %s\" % SCHEMA\n",
    "s.execute(SetPath)\n",
    "###### All Set Session created using provided schema  #######\n",
    "\n",
    "\n",
    "\n",
    "query = \"select * from ratings r, movies m where m.movieID = r.movieId and m.genres like '%%Comedy%%' and r.rating = 5;\"\n",
    "\n",
    "print(query)\n",
    "for i in range(1, 12):\n",
    "    start = datetime.now()\n",
    "    rr = s.execute(query)\n",
    "    all_results =  rr.fetchall()\n",
    "    end = datetime.now()\n",
    "    print(i, \": time in seconds - \", (end - start).total_seconds())\n",
    "\n",
    "\n",
    "\n",
    "s.close()"
   ]
  },
  {
   "cell_type": "code",
   "execution_count": null,
   "metadata": {
    "collapsed": false
   },
   "outputs": [],
   "source": [
    "s = session()\n",
    "SetPath = \"SET search_path TO %s\" % SCHEMA\n",
    "s.execute(SetPath)\n",
    "###### All Set Session created using provided schema  #######\n",
    "\n",
    "\n",
    "\n",
    "query = \"select * from ratings r1 where r1.userId in (select r2.userId from ratings r2 group by r2.userId having count(r2.rating) > 50);\"\n",
    "\n",
    "print(query)\n",
    "for i in range(1, 12):\n",
    "    start = datetime.now()\n",
    "    rr = s.execute(query)\n",
    "    all_results =  rr.fetchall()\n",
    "    end = datetime.now()\n",
    "    print(i, \": time in seconds - \", (end - start).total_seconds())\n",
    "\n",
    "\n",
    "\n",
    "s.close()"
   ]
  },
  {
   "cell_type": "code",
   "execution_count": null,
   "metadata": {
    "collapsed": false
   },
   "outputs": [],
   "source": [
    "s = session()\n",
    "SetPath = \"SET search_path TO %s\" % SCHEMA\n",
    "s.execute(SetPath)\n",
    "###### All Set Session created using provided schema  #######\n",
    "\n",
    "\n",
    "\n",
    "query = \"select userId, movieId from ratings;\"\n",
    "\n",
    "print(query)\n",
    "for i in range(1, 12):\n",
    "    start = datetime.now()\n",
    "    rr = s.execute(query)\n",
    "    all_results =  rr.fetchall()\n",
    "    end = datetime.now()\n",
    "    print(i, \": time in seconds - \", (end - start).total_seconds())\n",
    "\n",
    "\n",
    "\n",
    "s.close()"
   ]
  },
  {
   "cell_type": "code",
   "execution_count": null,
   "metadata": {
    "collapsed": false
   },
   "outputs": [],
   "source": [
    "s = session()\n",
    "SetPath = \"SET search_path TO %s\" % SCHEMA\n",
    "s.execute(SetPath)\n",
    "###### All Set Session created using provided schema  #######\n",
    "\n",
    "\n",
    "\n",
    "query = \"select * from ratings r, movies m where r.movieId = m.movieId;\"\n",
    "\n",
    "print(query)\n",
    "for i in range(1, 4):\n",
    "    start = datetime.now()\n",
    "    rr = s.execute(query)\n",
    "    all_results =  rr.fetchall()\n",
    "    end = datetime.now()\n",
    "    print(i, \": time in seconds - \", (end - start).total_seconds())\n",
    "\n",
    "\n",
    "\n",
    "s.close()"
   ]
  },
  {
   "cell_type": "code",
   "execution_count": null,
   "metadata": {
    "collapsed": true
   },
   "outputs": [],
   "source": []
  }
 ],
 "metadata": {
  "kernelspec": {
   "display_name": "Python [default]",
   "language": "python",
   "name": "python3"
  },
  "language_info": {
   "codemirror_mode": {
    "name": "ipython",
    "version": 3
   },
   "file_extension": ".py",
   "mimetype": "text/x-python",
   "name": "python",
   "nbconvert_exporter": "python",
   "pygments_lexer": "ipython3",
   "version": "3.5.2"
  }
 },
 "nbformat": 4,
 "nbformat_minor": 2
}
